{
 "cells": [
  {
   "cell_type": "code",
   "execution_count": 6,
   "metadata": {},
   "outputs": [],
   "source": [
    "from keras.layers.core import Dense, Activation, Dropout\n",
    "from keras.layers.recurrent import LSTM\n",
    "from keras.models import Sequential\n",
    "import lstm, time #helper libraries"
   ]
  },
  {
   "cell_type": "code",
   "execution_count": 7,
   "metadata": {},
   "outputs": [],
   "source": [
    "#Step 1 Load Data\n",
    "X_train, y_train, X_test, y_test = lstm.load_data('sp500.csv', 50, True)"
   ]
  },
  {
   "cell_type": "code",
   "execution_count": 8,
   "metadata": {},
   "outputs": [
    {
     "name": "stdout",
     "output_type": "stream",
     "text": [
      "compilation time :  0.0153820514679\n"
     ]
    }
   ],
   "source": [
    "#Step 2 Build Model\n",
    "model = Sequential()\n",
    "\n",
    "model.add(LSTM(\n",
    "    input_dim=1,\n",
    "    output_dim=50,\n",
    "    return_sequences=True))\n",
    "model.add(Dropout(0.2))\n",
    "\n",
    "model.add(LSTM(\n",
    "    100,\n",
    "    return_sequences=False))\n",
    "model.add(Dropout(0.2))\n",
    "\n",
    "model.add(Dense(\n",
    "    output_dim=1))\n",
    "model.add(Activation('linear'))\n",
    "\n",
    "start = time.time()\n",
    "model.compile(loss='mse', optimizer='rmsprop')\n",
    "print 'compilation time : ', time.time() - start"
   ]
  },
  {
   "cell_type": "code",
   "execution_count": null,
   "metadata": {},
   "outputs": [
    {
     "name": "stdout",
     "output_type": "stream",
     "text": [
      "Train on 3523 samples, validate on 186 samples\n",
      "Epoch 1/10\n",
      "3523/3523 [==============================] - 8s - loss: 0.0027 - val_loss: 8.3277e-04\n",
      "Epoch 2/10\n",
      "3523/3523 [==============================] - 8s - loss: 7.6966e-04 - val_loss: 6.1156e-04\n",
      "Epoch 3/10\n",
      "3523/3523 [==============================] - 8s - loss: 6.5527e-04 - val_loss: 5.0947e-04\n",
      "Epoch 4/10\n",
      "3523/3523 [==============================] - 8s - loss: 7.3486e-04 - val_loss: 5.3099e-04\n",
      "Epoch 5/10\n",
      "3523/3523 [==============================] - 8s - loss: 5.9141e-04 - val_loss: 4.6058e-04\n",
      "Epoch 6/10\n",
      "3523/3523 [==============================] - 8s - loss: 6.1561e-04 - val_loss: 4.3650e-04\n",
      "Epoch 7/10\n",
      "3523/3523 [==============================] - 9s - loss: 4.5884e-04 - val_loss: 3.4927e-04\n",
      "Epoch 8/10\n",
      "3523/3523 [==============================] - 9s - loss: 5.5672e-04 - val_loss: 4.3739e-04\n",
      "Epoch 9/10\n",
      "3523/3523 [==============================] - 10s - loss: 4.7128e-04 - val_loss: 3.4442e-04\n",
      "Epoch 10/10\n"
     ]
    }
   ],
   "source": [
    "#Step 3 Train the model\n",
    "model.fit(\n",
    "    X_train,\n",
    "    y_train,\n",
    "    batch_size=512,\n",
    "    nb_epoch=10,\n",
    "    validation_split=0.05)"
   ]
  },
  {
   "cell_type": "code",
   "execution_count": null,
   "metadata": {},
   "outputs": [],
   "source": [
    "#Step 4 - Plot the predictions!\n",
    "predictions = lstm.predict_sequences_multiple(model, X_test, 50, 50)\n",
    "lstm.plot_results_multiple(predictions, y_test, 50)"
   ]
  },
  {
   "cell_type": "code",
   "execution_count": null,
   "metadata": {
    "collapsed": true
   },
   "outputs": [],
   "source": []
  }
 ],
 "metadata": {
  "kernelspec": {
   "display_name": "Python 2",
   "language": "python",
   "name": "python2"
  },
  "language_info": {
   "codemirror_mode": {
    "name": "ipython",
    "version": 2
   },
   "file_extension": ".py",
   "mimetype": "text/x-python",
   "name": "python",
   "nbconvert_exporter": "python",
   "pygments_lexer": "ipython2",
   "version": "2.7.12"
  }
 },
 "nbformat": 4,
 "nbformat_minor": 2
}
